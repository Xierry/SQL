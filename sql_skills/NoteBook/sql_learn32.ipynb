{
 "metadata": {
  "language_info": {
   "codemirror_mode": {
    "name": "ipython",
    "version": 3
   },
   "file_extension": ".py",
   "mimetype": "text/x-python",
   "name": "python",
   "nbconvert_exporter": "python",
   "pygments_lexer": "ipython3",
   "version": "3.7.7-final"
  },
  "orig_nbformat": 2,
  "kernelspec": {
   "name": "Python 3.7.7 64-bit ('base': conda)",
   "display_name": "Python 3.7.7 64-bit ('base': conda)",
   "metadata": {
    "interpreter": {
     "hash": "100b1b05fcfda5940b40479eb365ce378c3faf1a93702fbbada7efc0fa24f1cd"
    }
   }
  }
 },
 "nbformat": 4,
 "nbformat_minor": 2,
 "cells": [
  {
   "cell_type": "code",
   "execution_count": 1,
   "metadata": {},
   "outputs": [],
   "source": [
    "import os\n",
    "import sys\n",
    "sys.path.append('E:/DA')\n",
    "from pysql import SQLite\n",
    "sql = SQLite(database='E:/DA/database/t.db')"
   ]
  },
  {
   "cell_type": "code",
   "execution_count": 2,
   "metadata": {},
   "outputs": [
    {
     "output_type": "execute_result",
     "data": {
      "text/plain": [
       "  s_id s_name\n",
       "0   04     李云\n",
       "1   06     吴兰"
      ],
      "text/html": "<div>\n<style scoped>\n    .dataframe tbody tr th:only-of-type {\n        vertical-align: middle;\n    }\n\n    .dataframe tbody tr th {\n        vertical-align: top;\n    }\n\n    .dataframe thead th {\n        text-align: right;\n    }\n</style>\n<table border=\"1\" class=\"dataframe\">\n  <thead>\n    <tr style=\"text-align: right;\">\n      <th></th>\n      <th>s_id</th>\n      <th>s_name</th>\n    </tr>\n  </thead>\n  <tbody>\n    <tr>\n      <th>0</th>\n      <td>04</td>\n      <td>李云</td>\n    </tr>\n    <tr>\n      <th>1</th>\n      <td>06</td>\n      <td>吴兰</td>\n    </tr>\n  </tbody>\n</table>\n</div>"
     },
     "metadata": {},
     "execution_count": 2
    }
   ],
   "source": [
    "# 查询 所有 课程成绩 小于 60 的 学生的学号和姓名\n",
    "# 思路 使用 exists 关键字 排除 存在及格情况的学生\n",
    "query = '''\n",
    "select t1.s_id, t1.s_name from (\n",
    "    score s left join student as stu on s.s_id = stu.s_id\n",
    ") as t1\n",
    "where not exists (\n",
    "    select *\n",
    "    from score as t2\n",
    "    where t1.s_id = t2.s_id and t2.s_score >= 60\n",
    ") \n",
    "group by t1.s_id ;\n",
    "'''\n",
    "sql.read_sql(query)"
   ]
  },
  {
   "cell_type": "code",
   "execution_count": 5,
   "metadata": {},
   "outputs": [
    {
     "output_type": "execute_result",
     "data": {
      "text/plain": [
       "   学号  姓名  选课数  总成绩\n",
       "0  01  赵雷    3  269\n",
       "1  02  钱电    3  210\n",
       "2  03  孙风    3  240\n",
       "3  04  李云    3  100\n",
       "4  05  周梅    2  163\n",
       "5  06  吴兰    2   65\n",
       "6  07  郑竹    2  187\n",
       "7  08  王菊    0    0"
      ],
      "text/html": "<div>\n<style scoped>\n    .dataframe tbody tr th:only-of-type {\n        vertical-align: middle;\n    }\n\n    .dataframe tbody tr th {\n        vertical-align: top;\n    }\n\n    .dataframe thead th {\n        text-align: right;\n    }\n</style>\n<table border=\"1\" class=\"dataframe\">\n  <thead>\n    <tr style=\"text-align: right;\">\n      <th></th>\n      <th>学号</th>\n      <th>姓名</th>\n      <th>选课数</th>\n      <th>总成绩</th>\n    </tr>\n  </thead>\n  <tbody>\n    <tr>\n      <th>0</th>\n      <td>01</td>\n      <td>赵雷</td>\n      <td>3</td>\n      <td>269</td>\n    </tr>\n    <tr>\n      <th>1</th>\n      <td>02</td>\n      <td>钱电</td>\n      <td>3</td>\n      <td>210</td>\n    </tr>\n    <tr>\n      <th>2</th>\n      <td>03</td>\n      <td>孙风</td>\n      <td>3</td>\n      <td>240</td>\n    </tr>\n    <tr>\n      <th>3</th>\n      <td>04</td>\n      <td>李云</td>\n      <td>3</td>\n      <td>100</td>\n    </tr>\n    <tr>\n      <th>4</th>\n      <td>05</td>\n      <td>周梅</td>\n      <td>2</td>\n      <td>163</td>\n    </tr>\n    <tr>\n      <th>5</th>\n      <td>06</td>\n      <td>吴兰</td>\n      <td>2</td>\n      <td>65</td>\n    </tr>\n    <tr>\n      <th>6</th>\n      <td>07</td>\n      <td>郑竹</td>\n      <td>2</td>\n      <td>187</td>\n    </tr>\n    <tr>\n      <th>7</th>\n      <td>08</td>\n      <td>王菊</td>\n      <td>0</td>\n      <td>0</td>\n    </tr>\n  </tbody>\n</table>\n</div>"
     },
     "metadata": {},
     "execution_count": 5
    }
   ],
   "source": [
    "# 问题: 查询所有学生的学号、姓名、选课数、总成绩\n",
    "query = '''\n",
    "select stu.s_id as 学号, \n",
    "       stu.s_name as 姓名, \n",
    "       count(sco.c_id) as '选课数', \n",
    "       sum(case when sco.s_score is null then 0 else sco.s_score end) as '总成绩'\n",
    "from student as stu\n",
    "left join score as sco\n",
    "on stu.s_id = sco.s_id\n",
    "group by stu.s_id;\n",
    "'''\n",
    "sql.read_sql(query)"
   ]
  },
  {
   "cell_type": "code",
   "execution_count": 6,
   "metadata": {},
   "outputs": [
    {
     "output_type": "execute_result",
     "data": {
      "text/plain": [
       "   姓名  个数\n",
       "0  张三   1"
      ],
      "text/html": "<div>\n<style scoped>\n    .dataframe tbody tr th:only-of-type {\n        vertical-align: middle;\n    }\n\n    .dataframe tbody tr th {\n        vertical-align: top;\n    }\n\n    .dataframe thead th {\n        text-align: right;\n    }\n</style>\n<table border=\"1\" class=\"dataframe\">\n  <thead>\n    <tr style=\"text-align: right;\">\n      <th></th>\n      <th>姓名</th>\n      <th>个数</th>\n    </tr>\n  </thead>\n  <tbody>\n    <tr>\n      <th>0</th>\n      <td>张三</td>\n      <td>1</td>\n    </tr>\n  </tbody>\n</table>\n</div>"
     },
     "metadata": {},
     "execution_count": 6
    }
   ],
   "source": [
    "# 问题: 查询姓“张”的老师的个数\n",
    "query='''\n",
    "select t_name as '姓名', count(t_id) as 个数\n",
    "from teacher\n",
    "where t_name like '张%';\n",
    "'''\n",
    "sql.read_sql(query)"
   ]
  },
  {
   "cell_type": "code",
   "execution_count": 8,
   "metadata": {},
   "outputs": [
    {
     "output_type": "execute_result",
     "data": {
      "text/plain": [
       "  s_id s_name\n",
       "0   06     吴兰\n",
       "1   08     王菊"
      ],
      "text/html": "<div>\n<style scoped>\n    .dataframe tbody tr th:only-of-type {\n        vertical-align: middle;\n    }\n\n    .dataframe tbody tr th {\n        vertical-align: top;\n    }\n\n    .dataframe thead th {\n        text-align: right;\n    }\n</style>\n<table border=\"1\" class=\"dataframe\">\n  <thead>\n    <tr style=\"text-align: right;\">\n      <th></th>\n      <th>s_id</th>\n      <th>s_name</th>\n    </tr>\n  </thead>\n  <tbody>\n    <tr>\n      <th>0</th>\n      <td>06</td>\n      <td>吴兰</td>\n    </tr>\n    <tr>\n      <th>1</th>\n      <td>08</td>\n      <td>王菊</td>\n    </tr>\n  </tbody>\n</table>\n</div>"
     },
     "metadata": {},
     "execution_count": 8
    }
   ],
   "source": [
    "# 问题: 查询没学过“张三”老师课的学生的学号、姓名\n",
    "query='''\n",
    "select s_id, s_name from student\n",
    "where s_id not in (\n",
    "    select s.s_id from score as s\n",
    "    inner join course as c on c.c_id=s.c_id\n",
    "    inner join teacher as t on t.t_id=c.t_id\n",
    "    where t.t_name='张三'\n",
    ");\n",
    "'''\n",
    "sql.read_sql(query)"
   ]
  },
  {
   "cell_type": "code",
   "execution_count": 34,
   "metadata": {},
   "outputs": [
    {
     "output_type": "execute_result",
     "data": {
      "text/plain": "  s_id s_name\n0   01     赵雷\n1   02     钱电\n2   03     孙风\n3   04     李云\n4   05     周梅\n5   07     郑竹",
      "text/html": "<div>\n<style scoped>\n    .dataframe tbody tr th:only-of-type {\n        vertical-align: middle;\n    }\n\n    .dataframe tbody tr th {\n        vertical-align: top;\n    }\n\n    .dataframe thead th {\n        text-align: right;\n    }\n</style>\n<table border=\"1\" class=\"dataframe\">\n  <thead>\n    <tr style=\"text-align: right;\">\n      <th></th>\n      <th>s_id</th>\n      <th>s_name</th>\n    </tr>\n  </thead>\n  <tbody>\n    <tr>\n      <th>0</th>\n      <td>01</td>\n      <td>赵雷</td>\n    </tr>\n    <tr>\n      <th>1</th>\n      <td>02</td>\n      <td>钱电</td>\n    </tr>\n    <tr>\n      <th>2</th>\n      <td>03</td>\n      <td>孙风</td>\n    </tr>\n    <tr>\n      <th>3</th>\n      <td>04</td>\n      <td>李云</td>\n    </tr>\n    <tr>\n      <th>4</th>\n      <td>05</td>\n      <td>周梅</td>\n    </tr>\n    <tr>\n      <th>5</th>\n      <td>07</td>\n      <td>郑竹</td>\n    </tr>\n  </tbody>\n</table>\n</div>"
     },
     "metadata": {},
     "execution_count": 34
    }
   ],
   "source": [
    "sql.read_sql('''\n",
    "SELECT st.s_id,st.s_name FROM student AS st \n",
    "INNER JOIN score AS s ON st.s_id=s.s_id\n",
    "INNER JOIN course AS c ON s.c_id=c.c_id\n",
    "INNER JOIN teacher AS t ON t.t_id=c.t_id\n",
    "WHERE t.t_name ='张三' \n",
    "GROUP BY st.s_id\n",
    "HAVING\n",
    "COUNT(st.s_id) IN\n",
    "(SELECT COUNT(c_name) FROM course \n",
    "INNER JOIN teacher \n",
    "ON course.t_id=teacher.t_id \n",
    "WHERE teacher.t_name='张三')\n",
    "''')"
   ]
  },
  {
   "cell_type": "code",
   "execution_count": 3,
   "metadata": {},
   "outputs": [
    {
     "output_type": "execute_result",
     "data": {
      "text/plain": [
       "  s_id s_name\n",
       "0   01     赵雷\n",
       "1   02     钱电\n",
       "2   03     孙风\n",
       "3   04     李云\n",
       "4   05     周梅"
      ],
      "text/html": "<div>\n<style scoped>\n    .dataframe tbody tr th:only-of-type {\n        vertical-align: middle;\n    }\n\n    .dataframe tbody tr th {\n        vertical-align: top;\n    }\n\n    .dataframe thead th {\n        text-align: right;\n    }\n</style>\n<table border=\"1\" class=\"dataframe\">\n  <thead>\n    <tr style=\"text-align: right;\">\n      <th></th>\n      <th>s_id</th>\n      <th>s_name</th>\n    </tr>\n  </thead>\n  <tbody>\n    <tr>\n      <th>0</th>\n      <td>01</td>\n      <td>赵雷</td>\n    </tr>\n    <tr>\n      <th>1</th>\n      <td>02</td>\n      <td>钱电</td>\n    </tr>\n    <tr>\n      <th>2</th>\n      <td>03</td>\n      <td>孙风</td>\n    </tr>\n    <tr>\n      <th>3</th>\n      <td>04</td>\n      <td>李云</td>\n    </tr>\n    <tr>\n      <th>4</th>\n      <td>05</td>\n      <td>周梅</td>\n    </tr>\n  </tbody>\n</table>\n</div>"
     },
     "metadata": {},
     "execution_count": 3
    }
   ],
   "source": [
    "sql.read_sql('''\n",
    "select s_id,s_name from student\n",
    "where s_id in (\n",
    "    select s1.s_id from (\n",
    "        select * from score where c_id = '01') as s1\n",
    "    inner join (\n",
    "        select * from score where c_id = '02') as s2\n",
    "    on s1.s_id = s2.s_id\n",
    ");\n",
    "''')"
   ]
  },
  {
   "cell_type": "code",
   "execution_count": 15,
   "metadata": {},
   "outputs": [
    {
     "output_type": "execute_result",
     "data": {
      "text/plain": [
       "  课程编号  总成绩       平均成绩  选课人数\n",
       "0   01  387  64.500000     6\n",
       "1   02  436  72.666667     6\n",
       "2   03  411  68.500000     6"
      ],
      "text/html": "<div>\n<style scoped>\n    .dataframe tbody tr th:only-of-type {\n        vertical-align: middle;\n    }\n\n    .dataframe tbody tr th {\n        vertical-align: top;\n    }\n\n    .dataframe thead th {\n        text-align: right;\n    }\n</style>\n<table border=\"1\" class=\"dataframe\">\n  <thead>\n    <tr style=\"text-align: right;\">\n      <th></th>\n      <th>课程编号</th>\n      <th>总成绩</th>\n      <th>平均成绩</th>\n      <th>选课人数</th>\n    </tr>\n  </thead>\n  <tbody>\n    <tr>\n      <th>0</th>\n      <td>01</td>\n      <td>387</td>\n      <td>64.500000</td>\n      <td>6</td>\n    </tr>\n    <tr>\n      <th>1</th>\n      <td>02</td>\n      <td>436</td>\n      <td>72.666667</td>\n      <td>6</td>\n    </tr>\n    <tr>\n      <th>2</th>\n      <td>03</td>\n      <td>411</td>\n      <td>68.500000</td>\n      <td>6</td>\n    </tr>\n  </tbody>\n</table>\n</div>"
     },
     "metadata": {},
     "execution_count": 15
    }
   ],
   "source": [
    "query = '''\n",
    "SELECT c_id '课程编号',\n",
    "       sum(s_score) '总成绩',\n",
    "       avg(s_score) '平均成绩',\n",
    "       count(s_score) as '选课人数'\n",
    "from score\n",
    "group by c_id;\n",
    "'''\n",
    "sql.read_sql(query)"
   ]
  },
  {
   "cell_type": "code",
   "execution_count": 26,
   "metadata": {},
   "outputs": [
    {
     "output_type": "execute_result",
     "data": {
      "text/plain": [
       "  学生学号 学生姓名\n",
       "0   05   周梅\n",
       "1   06   吴兰\n",
       "2   07   郑竹\n",
       "3   08   王菊"
      ],
      "text/html": "<div>\n<style scoped>\n    .dataframe tbody tr th:only-of-type {\n        vertical-align: middle;\n    }\n\n    .dataframe tbody tr th {\n        vertical-align: top;\n    }\n\n    .dataframe thead th {\n        text-align: right;\n    }\n</style>\n<table border=\"1\" class=\"dataframe\">\n  <thead>\n    <tr style=\"text-align: right;\">\n      <th></th>\n      <th>学生学号</th>\n      <th>学生姓名</th>\n    </tr>\n  </thead>\n  <tbody>\n    <tr>\n      <th>0</th>\n      <td>05</td>\n      <td>周梅</td>\n    </tr>\n    <tr>\n      <th>1</th>\n      <td>06</td>\n      <td>吴兰</td>\n    </tr>\n    <tr>\n      <th>2</th>\n      <td>07</td>\n      <td>郑竹</td>\n    </tr>\n    <tr>\n      <th>3</th>\n      <td>08</td>\n      <td>王菊</td>\n    </tr>\n  </tbody>\n</table>\n</div>"
     },
     "metadata": {},
     "execution_count": 26
    }
   ],
   "source": [
    "query = '''\n",
    "select st.s_id '学生学号',st.s_name '学生姓名'\n",
    "from student as st\n",
    "left join score as sc on st.s_id=sc.s_id\n",
    "group by st.s_id \n",
    "having count(distinct sc.c_id) < (select count(distinct c_id) from course);\n",
    "'''\n",
    "sql.read_sql(query)"
   ]
  },
  {
   "cell_type": "code",
   "execution_count": 27,
   "metadata": {},
   "outputs": [
    {
     "output_type": "execute_result",
     "data": {
      "text/plain": [
       "  s_id s_name\n",
       "0   02     钱电\n",
       "1   03     孙风\n",
       "2   04     李云\n",
       "3   05     周梅\n",
       "4   06     吴兰\n",
       "5   07     郑竹"
      ],
      "text/html": "<div>\n<style scoped>\n    .dataframe tbody tr th:only-of-type {\n        vertical-align: middle;\n    }\n\n    .dataframe tbody tr th {\n        vertical-align: top;\n    }\n\n    .dataframe thead th {\n        text-align: right;\n    }\n</style>\n<table border=\"1\" class=\"dataframe\">\n  <thead>\n    <tr style=\"text-align: right;\">\n      <th></th>\n      <th>s_id</th>\n      <th>s_name</th>\n    </tr>\n  </thead>\n  <tbody>\n    <tr>\n      <th>0</th>\n      <td>02</td>\n      <td>钱电</td>\n    </tr>\n    <tr>\n      <th>1</th>\n      <td>03</td>\n      <td>孙风</td>\n    </tr>\n    <tr>\n      <th>2</th>\n      <td>04</td>\n      <td>李云</td>\n    </tr>\n    <tr>\n      <th>3</th>\n      <td>05</td>\n      <td>周梅</td>\n    </tr>\n    <tr>\n      <th>4</th>\n      <td>06</td>\n      <td>吴兰</td>\n    </tr>\n    <tr>\n      <th>5</th>\n      <td>07</td>\n      <td>郑竹</td>\n    </tr>\n  </tbody>\n</table>\n</div>"
     },
     "metadata": {},
     "execution_count": 27
    }
   ],
   "source": [
    "query='''\n",
    "select s_id,s_name from student \n",
    "where s_id in (select distinct s_id FROM score \n",
    "               where c_id in (select c_id from score where s_id='01')\n",
    "               and s_id!='01')'''\n",
    "sql.read_sql(query)            "
   ]
  },
  {
   "cell_type": "code",
   "execution_count": 43,
   "metadata": {},
   "outputs": [
    {
     "output_type": "execute_result",
     "data": {
      "text/plain": [
       "  s_id\n",
       "0   02\n",
       "1   03\n",
       "2   04"
      ],
      "text/html": "<div>\n<style scoped>\n    .dataframe tbody tr th:only-of-type {\n        vertical-align: middle;\n    }\n\n    .dataframe tbody tr th {\n        vertical-align: top;\n    }\n\n    .dataframe thead th {\n        text-align: right;\n    }\n</style>\n<table border=\"1\" class=\"dataframe\">\n  <thead>\n    <tr style=\"text-align: right;\">\n      <th></th>\n      <th>s_id</th>\n    </tr>\n  </thead>\n  <tbody>\n    <tr>\n      <th>0</th>\n      <td>02</td>\n    </tr>\n    <tr>\n      <th>1</th>\n      <td>03</td>\n    </tr>\n    <tr>\n      <th>2</th>\n      <td>04</td>\n    </tr>\n  </tbody>\n</table>\n</div>"
     },
     "metadata": {},
     "execution_count": 43
    }
   ],
   "source": [
    "\n",
    "query='''\n",
    "SELECT s_id FROM score\n",
    "WHERE s_id <>'01'\n",
    "GROUP BY s_id\n",
    "HAVING GROUP_CONCAT(distinct c_id)=(\n",
    "SELECT GROUP_CONCAT(distinct c_id) FROM score WHERE s_id='01')\n",
    "'''\n",
    "sql.read_sql(query)            "
   ]
  },
  {
   "cell_type": "code",
   "execution_count": null,
   "metadata": {},
   "outputs": [],
   "source": [
    "\n",
    "# -- 学生表\n",
    "# -- Student（s_id，s_name，s_birth，s_sex）\n",
    "# -- 学生编号,学生姓名, 出生年月,学生性别\n",
    "\n",
    "# -- 课程表\n",
    "# -- Course(c_id,c_name,t_id) \n",
    "# -- 课程编号, 课程名称, 教师编号\n",
    "\n",
    "# -- 教师表\n",
    "# -- Teacher(t_id,t_name)\n",
    "# -- 教师编号,教师姓名\n",
    "\n",
    "# -- 成绩表\n",
    "# -- Score(s_id,c_id,s_s_score) \n",
    "# -- 学生编号,课程编号,分数\n"
   ]
  }
 ]
}